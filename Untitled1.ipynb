{
 "cells": [
  {
   "cell_type": "code",
   "execution_count": 7,
   "id": "e1420620-0b35-4108-8f4c-b93b82b7a4cd",
   "metadata": {},
   "outputs": [
    {
     "name": "stdout",
     "output_type": "stream",
     "text": [
      "IterableDataset({\n",
      "    features: ['query_id', 'query', 'positive_passages', 'negative_passages'],\n",
      "    n_shards: 1\n",
      "})\n",
      "[{'query_id': '1602', 'query': '유비 출생일은 언제인가요?', 'positive_passages': [], 'negative_passages': []}, {'query_id': '1603', 'query': '목탁수구리는 대형종인가요?', 'positive_passages': [], 'negative_passages': []}, {'query_id': '1606', 'query': '아브라함 링컨은 몇 대 대통령인가?', 'positive_passages': [], 'negative_passages': []}, {'query_id': '1607', 'query': '상자 속 소년의 매장지는 어디인가요?', 'positive_passages': [], 'negative_passages': []}, {'query_id': '1608', 'query': '현대 자동차는 언제 처음으로 자동차를 수출하기 시작했나요?', 'positive_passages': [], 'negative_passages': []}, {'query_id': '1609', 'query': '화의군은 세종과 영빈 강씨의 아들인가요?', 'positive_passages': [], 'negative_passages': []}, {'query_id': '1610', 'query': '한나라 건국일은 언제인가요?', 'positive_passages': [], 'negative_passages': []}, {'query_id': '1613', 'query': '성모 마리아 축일은 언제인가요?', 'positive_passages': [], 'negative_passages': []}, {'query_id': '1614', 'query': '노무라 가쓰야의 마지막 야구 경기는 언제인가요?', 'positive_passages': [], 'negative_passages': []}, {'query_id': '1615', 'query': '매슬로우의 5단계 욕구 중 제 1수준은 생리적 욕구인가요?', 'positive_passages': [], 'negative_passages': []}, {'query_id': '1617', 'query': '플로리다주 현재 주지사는 누구인가요?', 'positive_passages': [], 'negative_passages': []}, {'query_id': '1619', 'query': '노벨 평화상을 처음 받은 한국인은 누구인가?', 'positive_passages': [], 'negative_passages': []}, {'query_id': '1620', 'query': '대만에서 가장 높은 건물은 무엇인가?', 'positive_passages': [], 'negative_passages': []}, {'query_id': '1621', 'query': '엘라 피츠제럴드는 재즈 가수인가요?', 'positive_passages': [], 'negative_passages': []}, {'query_id': '1622', 'query': '한국이 일본으로부터 독립한 때는 몇년도인가?', 'positive_passages': [], 'negative_passages': []}, {'query_id': '1623', 'query': '중국어 어순은 어떻게 되나요?', 'positive_passages': [], 'negative_passages': []}, {'query_id': '1625', 'query': '코스피 지수(KOrea composite Stock Price Index, 약어 :KOSPI)는 한국거래소의 유가증권시장에 상장된 회사들에 주식에 대한 총합인 시가총액의 기준시점과 비교시점을 비교하여 나타낸 지표인가요?', 'positive_passages': [], 'negative_passages': []}, {'query_id': '1626', 'query': '풋볼과 사커의 차이는 무엇인가?', 'positive_passages': [], 'negative_passages': []}, {'query_id': '1627', 'query': '월드컵이 처음 시작된 해는 언제인가?', 'positive_passages': [], 'negative_passages': []}, {'query_id': '1628', 'query': '예멘의 수도는 어디인가?', 'positive_passages': [], 'negative_passages': []}, {'query_id': '1629', 'query': '한국의 쇄국정책은 언제 무너졌나?', 'positive_passages': [], 'negative_passages': []}, {'query_id': '1630', 'query': '신라 백제 고구려 중 어느 나라가 가장 먼저 멸망했는가?', 'positive_passages': [], 'negative_passages': []}, {'query_id': '1631', 'query': '언제 처음 월드컵이 열렸나요?', 'positive_passages': [], 'negative_passages': []}, {'query_id': '1632', 'query': '보스턴은 어느 나라의 도시인가?', 'positive_passages': [], 'negative_passages': []}, {'query_id': '1633', 'query': '부산에는 몇개의 행정구역이 있나요?', 'positive_passages': [], 'negative_passages': []}, {'query_id': '1634', 'query': '대한민국에서 아파트 한 채의 규모는 건축법시행령의 규정에서 밝힌 바닥면적을 기준으로 하나요?', 'positive_passages': [], 'negative_passages': []}, {'query_id': '1635', 'query': '메릴랜드 주의 주도는 어디인가요?', 'positive_passages': [], 'negative_passages': []}, {'query_id': '1636', 'query': '포에니 전쟁은 언제 일어났나요?', 'positive_passages': [], 'negative_passages': []}, {'query_id': '1637', 'query': '대학원생노조의 주된 업무는 무엇인가?', 'positive_passages': [], 'negative_passages': []}, {'query_id': '1639', 'query': '웨스트 버지니아의 인구는 얼마인가?', 'positive_passages': [], 'negative_passages': []}, {'query_id': '1640', 'query': '여왕의 교실 주인공을 맡은 사람은 누구인가?', 'positive_passages': [], 'negative_passages': []}, {'query_id': '1641', 'query': 'FIFA 월드컵의 창립주는 누구인가요?', 'positive_passages': [], 'negative_passages': []}, {'query_id': '1642', 'query': '아메리칸사모아의 수도는 어디인가요?', 'positive_passages': [], 'negative_passages': []}, {'query_id': '1643', 'query': '가장 많은 월드컵 우승을 한 나라는 어디인가?', 'positive_passages': [], 'negative_passages': []}, {'query_id': '1644', 'query': '캐나다의 현재 대통령은 누구인가요?', 'positive_passages': [], 'negative_passages': []}, {'query_id': '1645', 'query': '고려 태조는 몇 대 왕인가요?', 'positive_passages': [], 'negative_passages': []}, {'query_id': '1646', 'query': '비틀즈의 멤버 중 가장 먼저  사망한 사람은 누구인가?', 'positive_passages': [], 'negative_passages': []}, {'query_id': '1647', 'query': '고구려의 영토를 제일 많이 넓힌 왕은 누구인가?', 'positive_passages': [], 'negative_passages': []}, {'query_id': '1648', 'query': '티베트에서 가장 높은 곳은 어디인가요?', 'positive_passages': [], 'negative_passages': []}, {'query_id': '1650', 'query': '다이너마이트를 처음 발명한 사람은 누구인가?', 'positive_passages': [], 'negative_passages': []}, {'query_id': '1651', 'query': '북학파를 중상학파라고도 하나요?', 'positive_passages': [], 'negative_passages': []}, {'query_id': '1652', 'query': '세르비아 공화국 수도는 어디인가요?', 'positive_passages': [], 'negative_passages': []}, {'query_id': '1653', 'query': '역사상 가장 큰 득표율로 당선된 대통령은 누구인가?', 'positive_passages': [], 'negative_passages': []}, {'query_id': '1654', 'query': '궤도공명은 장기간의 궤도 안정화 또는 불안정화의 발생으로 이어질 수 있나요?', 'positive_passages': [], 'negative_passages': []}, {'query_id': '1655', 'query': '처음으로 인터넷이 보급된 연도는 언제인가요?', 'positive_passages': [], 'negative_passages': []}, {'query_id': '1656', 'query': '하이에나는 암컷이 무리에서 우두머리인가요?', 'positive_passages': [], 'negative_passages': []}, {'query_id': '1659', 'query': '한반도의 첫 시멘트 공장은 무엇인가요?', 'positive_passages': [], 'negative_passages': []}, {'query_id': '1661', 'query': '신토는 일본의 민속 신앙인가요?', 'positive_passages': [], 'negative_passages': []}, {'query_id': '1662', 'query': '샤를 드 골의 어머니는 릴의 부유한 사업가 집안 후손인가요?', 'positive_passages': [], 'negative_passages': []}, {'query_id': '1663', 'query': '미국 선거인단의 수는 왜 538명인가?', 'positive_passages': [], 'negative_passages': []}, {'query_id': '1664', 'query': '아나톨리아의 현재 지리적 위치는 어디인가?', 'positive_passages': [], 'negative_passages': []}, {'query_id': '1666', 'query': '레이테 섬은 어떤 제도에 위치한 섬인가요?', 'positive_passages': [], 'negative_passages': []}, {'query_id': '1667', 'query': '안동은 어느 도에 있는 도시인가?', 'positive_passages': [], 'negative_passages': []}, {'query_id': '1668', 'query': '조선 제 5대 왕은 누구인가요?', 'positive_passages': [], 'negative_passages': []}, {'query_id': '1669', 'query': '광복절은 언제인가?', 'positive_passages': [], 'negative_passages': []}, {'query_id': '1671', 'query': '2019년까지 지진으로 인한 가장 큰 피해를 입은 나라는 어디인가?', 'positive_passages': [], 'negative_passages': []}, {'query_id': '1672', 'query': '인체에서 가장 무거운 뼈는 무엇인가?', 'positive_passages': [], 'negative_passages': []}, {'query_id': '1674', 'query': '모노프탈모스는 애꾸눈이란 뜻인가요?', 'positive_passages': [], 'negative_passages': []}, {'query_id': '1676', 'query': '고종은 언제 태어났나요?', 'positive_passages': [], 'negative_passages': []}, {'query_id': '1677', 'query': '바니시의 일본 명칭은 무엇인가요?', 'positive_passages': [], 'negative_passages': []}, {'query_id': '1678', 'query': '콜럼버스가 처음 탐험을 떠난 때는 언제인가?', 'positive_passages': [], 'negative_passages': []}, {'query_id': '1679', 'query': '일본에서 월드컵은 언제 열렸나요?', 'positive_passages': [], 'negative_passages': []}, {'query_id': '1680', 'query': '드라마 도깨비를 방영한 방송사는 어디인가?', 'positive_passages': [], 'negative_passages': []}, {'query_id': '1683', 'query': '매질이 파동 방향과 수직인 방향으로 움직이는 파동은 무엇인가요?', 'positive_passages': [], 'negative_passages': []}, {'query_id': '1684', 'query': '경상대학교 설립연도는 언제인가요?', 'positive_passages': [], 'negative_passages': []}, {'query_id': '1686', 'query': '캐나다는 어느 대륙에 있는가?', 'positive_passages': [], 'negative_passages': []}, {'query_id': '1687', 'query': '남서아프리카 수도는 어디인가요?', 'positive_passages': [], 'negative_passages': []}, {'query_id': '1689', 'query': '미국 역대 최연소 대통령은 누구인가?', 'positive_passages': [], 'negative_passages': []}, {'query_id': '1690', 'query': '미국의 추수 감사절은 언제인가요?', 'positive_passages': [], 'negative_passages': []}, {'query_id': '1691', 'query': '홍준표의 고향은 어디인가?', 'positive_passages': [], 'negative_passages': []}, {'query_id': '1693', 'query': '마이클 조던의 고향은 어디인가?', 'positive_passages': [], 'negative_passages': []}, {'query_id': '1694', 'query': '귄터 기욤의 부인은 누구인가요?', 'positive_passages': [], 'negative_passages': []}, {'query_id': '1695', 'query': '김대중의 정당은 어디인가요?', 'positive_passages': [], 'negative_passages': []}, {'query_id': '1696', 'query': '일본에서 방사능 피폭이 가장 심한 섬은 어디인가?', 'positive_passages': [], 'negative_passages': []}, {'query_id': '1697', 'query': '천주교는 언제 한국으로 유입되었는가?', 'positive_passages': [], 'negative_passages': []}, {'query_id': '1698', 'query': '마르크스는 사회주의 혁명가인가요?', 'positive_passages': [], 'negative_passages': []}, {'query_id': '1699', 'query': '얼스터 대계 제일의 영웅은 누구인가요?', 'positive_passages': [], 'negative_passages': []}, {'query_id': '1700', 'query': '감마선은 무엇인가?', 'positive_passages': [], 'negative_passages': []}, {'query_id': '1703', 'query': '단백질 화학식은 무엇인가요?', 'positive_passages': [], 'negative_passages': []}, {'query_id': '1704', 'query': '개 파보바이러스는 인간에 끼치는 영향은 무엇인가?', 'positive_passages': [], 'negative_passages': []}, {'query_id': '1705', 'query': '진나라가 멸망한 때는 언제인가?', 'positive_passages': [], 'negative_passages': []}, {'query_id': '1708', 'query': '대한민국의 국회의원 임기 기간은 얼마나 되나요?', 'positive_passages': [], 'negative_passages': []}, {'query_id': '1713', 'query': '북두칠성은 몇 개의 별로 이루어져있는가?', 'positive_passages': [], 'negative_passages': []}, {'query_id': '1714', 'query': '한국의 근대 교육은 조선 말기에 언제 출발하였나요?', 'positive_passages': [], 'negative_passages': []}, {'query_id': '1716', 'query': '유비 사망일은 언제인가요?', 'positive_passages': [], 'negative_passages': []}, {'query_id': '1718', 'query': '도시철도(都市鐵道)는 도시 혹은 광역권 내부 지역 간의 교통을 담당하기 위해 건설 된 철도인가요?', 'positive_passages': [], 'negative_passages': []}, {'query_id': '1721', 'query': '측우기를 처음 발명한 사람은 누구인가?', 'positive_passages': [], 'negative_passages': []}, {'query_id': '1722', 'query': '마르크스는 언제 사망하였는가?', 'positive_passages': [], 'negative_passages': []}, {'query_id': '1723', 'query': '고구려 백제 신라 삼국 중 가장 먼저 몰락한 나라는 어디인가?', 'positive_passages': [], 'negative_passages': []}, {'query_id': '1724', 'query': '갑신정변이 일어난 이유는 무엇인가?', 'positive_passages': [], 'negative_passages': []}, {'query_id': '1726', 'query': '고종은 몇 번째 왕인가?', 'positive_passages': [], 'negative_passages': []}, {'query_id': '1727', 'query': '초신성 플래시맨의 첫방영 날짜는 언제인가?', 'positive_passages': [], 'negative_passages': []}, {'query_id': '1728', 'query': '운동하는 물체가 가진 에너지는 어떤 에너지를 말하나요?', 'positive_passages': [], 'negative_passages': []}, {'query_id': '1729', 'query': '어떤 사건에 대한 원인을 판단하는데 영향을 끼치는 심리학의 인지적 편견 중 하나는 무엇인가요?', 'positive_passages': [], 'negative_passages': []}, {'query_id': '1734', 'query': '구미는 어느 도에 있는 도시인가?', 'positive_passages': [], 'negative_passages': []}, {'query_id': '1735', 'query': '다이묘는 무엇인가?', 'positive_passages': [], 'negative_passages': []}, {'query_id': '1736', 'query': '대한민국 법에서 서면에 증여의 의사를 명기하지 않고 구두 S 쪽으로부터라도 이 증여계약을 취소할 수가 있나요?', 'positive_passages': [], 'negative_passages': []}, {'query_id': '1741', 'query': '베네치아는 최근 지구 온난화로 인해 가라앉고 있나요?', 'positive_passages': [], 'negative_passages': []}, {'query_id': '1742', 'query': '터키 이스탄불의 원래 이름을 비잔티움이라고 하나요?', 'positive_passages': [], 'negative_passages': []}, {'query_id': '1744', 'query': '2018년 메이저 리그에 참가한 구단은 총 몇개인가?', 'positive_passages': [], 'negative_passages': []}]\n"
     ]
    }
   ],
   "source": [
    "import torch\n",
    "from datasets import load_dataset\n",
    "from sentence_transformers import SentenceTransformer, CrossEncoder, util\n",
    "from tqdm.auto import tqdm\n",
    "\n",
    "# --- 1. 모델 로드 ---\n",
    "# 사용할 GPU 설정 (가능하면 GPU 사용)\n",
    "device = 'cuda' if torch.cuda.is_available() else 'cpu'\n",
    "\n",
    "# 1-A. 임베딩 모델 (Bi-Encoder) 로드\n",
    "# 한국어 임베딩 모델 중 성능이 좋은 모델을 선택합니다.\n",
    "embedding_model = SentenceTransformer(\"intfloat/multilingual-e5-base\", device=device)\n",
    "\n",
    "# 1-B. 리랭커 모델 (Cross-Encoder) 로드\n",
    "reranker_model = CrossEncoder('BAAI/bge-reranker-v2-m3', device=device)\n",
    "\n",
    "# --- 2. 데이터셋 로드 ---\n",
    "# Ko-MIRACL 데이터셋의 한국어 테스트셋 로드\n",
    "# streaming=True를 사용하면 전체 데이터를 다운로드하지 않고 일부만 스트리밍하여 메모리를 절약할 수 있습니다.\n",
    "dataset = load_dataset(\"miracl/miracl\", \"ko\", use_auth_token=True, split=\"testA\", streaming=True)\n",
    "\n",
    "# 평가를 위해 데이터셋에서 일부만 샘플링 (예: 100개)\n",
    "num_samples = 100\n",
    "eval_samples = list(dataset.take(num_samples))\n",
    "\n",
    "# --- 3. 평가 진행 ---\n",
    "# 결과 저장을 위한 변수 초기화\n",
    "baseline_mrr_scores = []\n",
    "reranked_mrr_scores = []\n",
    "baseline_hit_rate_at_10 = 0\n",
    "reranked_hit_rate_at_10 = 0"
   ]
  },
  {
   "cell_type": "code",
   "execution_count": 13,
   "id": "00c59050-c98a-4c5f-bc55-a337561e9711",
   "metadata": {},
   "outputs": [
    {
     "data": {
      "application/vnd.jupyter.widget-view+json": {
       "model_id": "4668a816a6894062add049575cd0e914",
       "version_major": 2,
       "version_minor": 0
      },
      "text/plain": [
       "Downloading data:   0%|          | 0.00/12.6k [00:00<?, ?B/s]"
      ]
     },
     "metadata": {},
     "output_type": "display_data"
    },
    {
     "data": {
      "application/vnd.jupyter.widget-view+json": {
       "model_id": "9a654b74712146048f1da6b3644a4101",
       "version_major": 2,
       "version_minor": 0
      },
      "text/plain": [
       "Downloading data:   0%|          | 0.00/55.7k [00:00<?, ?B/s]"
      ]
     },
     "metadata": {},
     "output_type": "display_data"
    },
    {
     "data": {
      "application/vnd.jupyter.widget-view+json": {
       "model_id": "408a95175638431da3c36d654403de53",
       "version_major": 2,
       "version_minor": 0
      },
      "text/plain": [
       "Downloading data:   0%|          | 0.00/74.9k [00:00<?, ?B/s]"
      ]
     },
     "metadata": {},
     "output_type": "display_data"
    },
    {
     "data": {
      "application/vnd.jupyter.widget-view+json": {
       "model_id": "8f75ef11bc05488197861f7d8b8a753c",
       "version_major": 2,
       "version_minor": 0
      },
      "text/plain": [
       "Downloading data:   0%|          | 0.00/53.8k [00:00<?, ?B/s]"
      ]
     },
     "metadata": {},
     "output_type": "display_data"
    },
    {
     "data": {
      "application/vnd.jupyter.widget-view+json": {
       "model_id": "070802dfa5724cbeb999b4d3a8ed9d96",
       "version_major": 2,
       "version_minor": 0
      },
      "text/plain": [
       "Downloading data:   0%|          | 0.00/233k [00:00<?, ?B/s]"
      ]
     },
     "metadata": {},
     "output_type": "display_data"
    },
    {
     "data": {
      "application/vnd.jupyter.widget-view+json": {
       "model_id": "125c72b467ec49d3b7cef541b336be7e",
       "version_major": 2,
       "version_minor": 0
      },
      "text/plain": [
       "Downloading data:   0%|          | 0.00/16.7k [00:00<?, ?B/s]"
      ]
     },
     "metadata": {},
     "output_type": "display_data"
    },
    {
     "data": {
      "application/vnd.jupyter.widget-view+json": {
       "model_id": "d69ee9129838401aafad252d60628bd9",
       "version_major": 2,
       "version_minor": 0
      },
      "text/plain": [
       "Generating dev split: 0 examples [00:00, ? examples/s]"
      ]
     },
     "metadata": {},
     "output_type": "display_data"
    },
    {
     "data": {
      "application/vnd.jupyter.widget-view+json": {
       "model_id": "be648d709a4a43c99d6bd06723e5e90e",
       "version_major": 2,
       "version_minor": 0
      },
      "text/plain": [
       "Generating testB split: 0 examples [00:00, ? examples/s]"
      ]
     },
     "metadata": {},
     "output_type": "display_data"
    },
    {
     "data": {
      "application/vnd.jupyter.widget-view+json": {
       "model_id": "2bb172ce2ed34b6c9fc0b7b95f65232b",
       "version_major": 2,
       "version_minor": 0
      },
      "text/plain": [
       "Generating train split: 0 examples [00:00, ? examples/s]"
      ]
     },
     "metadata": {},
     "output_type": "display_data"
    },
    {
     "data": {
      "application/vnd.jupyter.widget-view+json": {
       "model_id": "4025aef0a96e4e0d9ce2418b2a8bff8e",
       "version_major": 2,
       "version_minor": 0
      },
      "text/plain": [
       "Generating testA split: 0 examples [00:00, ? examples/s]"
      ]
     },
     "metadata": {},
     "output_type": "display_data"
    }
   ],
   "source": [
    "from datasets import load_dataset\n",
    "\n",
    "# 한국어 query + qrels\n",
    "miracl = load_dataset(\"miracl/miracl\", \"ko\")\n",
    "# 한국어 corpus\n",
    "corpus = load_dataset(\"miracl/miracl-corpus\", \"ko\", split=\"train\")\n",
    "\n",
    "corpus_dict = {c[\"docid\"]: c for c in corpus}  # 빠른 조회용 dict\n"
   ]
  },
  {
   "cell_type": "code",
   "execution_count": 17,
   "id": "bca2e845-7396-475f-8483-9b24d8b1ddc3",
   "metadata": {},
   "outputs": [],
   "source": [
    "eval_pairs = []\n",
    "eval_labels = []\n",
    "queries = []\n",
    "\n",
    "for q in miracl[\"dev\"]:\n",
    "    query = q[\"query\"]\n",
    "    # positive pairs\n",
    "    for p in q[\"positive_passages\"]:\n",
    "        text = corpus_dict[p[\"docid\"]][\"text\"]\n",
    "        eval_pairs.append([str(query), str(text)])  # <-- 리스트로, str로 강제 변환\n",
    "        eval_labels.append(1)\n",
    "        queries.append(q[\"query_id\"])\n",
    "    # negative pairs\n",
    "    for n in q[\"negative_passages\"]:\n",
    "        text = corpus_dict[n[\"docid\"]][\"text\"]\n",
    "        eval_pairs.append([str(query), str(text)])  # <-- 리스트로, str로 강제 변환\n",
    "        eval_labels.append(0)\n",
    "        queries.append(q[\"query_id\"])\n"
   ]
  },
  {
   "cell_type": "code",
   "execution_count": 19,
   "id": "b32ef776-98db-4abc-b7bd-a5c60988c158",
   "metadata": {},
   "outputs": [
    {
     "data": {
      "application/vnd.jupyter.widget-view+json": {
       "model_id": "af21dc03bb1744f5aa774ce6a91451d2",
       "version_major": 2,
       "version_minor": 0
      },
      "text/plain": [
       "Batches:   0%|          | 0/96 [00:00<?, ?it/s]"
      ]
     },
     "metadata": {},
     "output_type": "display_data"
    },
    {
     "ename": "NameError",
     "evalue": "name 'np' is not defined",
     "output_type": "error",
     "traceback": [
      "\u001b[31m---------------------------------------------------------------------------\u001b[39m",
      "\u001b[31mNameError\u001b[39m                                 Traceback (most recent call last)",
      "\u001b[36mCell\u001b[39m\u001b[36m \u001b[39m\u001b[32mIn[19]\u001b[39m\u001b[32m, line 31\u001b[39m\n\u001b[32m     29\u001b[39m \u001b[38;5;28;01mfor\u001b[39;00m qid, pairs \u001b[38;5;129;01min\u001b[39;00m results_by_query.items():\n\u001b[32m     30\u001b[39m     s, l = \u001b[38;5;28mzip\u001b[39m(*pairs)\n\u001b[32m---> \u001b[39m\u001b[32m31\u001b[39m     ndcgs.append(ndcg_at_k(\u001b[43mnp\u001b[49m.array(s), np.array(l)))\n\u001b[32m     32\u001b[39m     mrrs.append(mrr_at_k(np.array(s), np.array(l)))\n\u001b[32m     34\u001b[39m \u001b[38;5;28mprint\u001b[39m(\u001b[33mf\u001b[39m\u001b[33m\"\u001b[39m\u001b[33mMean nDCG@10: \u001b[39m\u001b[38;5;132;01m{\u001b[39;00mnp.mean(ndcgs)\u001b[38;5;132;01m:\u001b[39;00m\u001b[33m.4f\u001b[39m\u001b[38;5;132;01m}\u001b[39;00m\u001b[33m\"\u001b[39m)\n",
      "\u001b[31mNameError\u001b[39m: name 'np' is not defined"
     ]
    }
   ],
   "source": [
    "from collections import defaultdict\n",
    "# 4. 점수 계산\n",
    "scores = reranker_model.predict(eval_pairs, convert_to_numpy=True, show_progress_bar=True)\n",
    "\n",
    "# 5. 쿼리별로 결과 묶기\n",
    "results_by_query = defaultdict(list)\n",
    "for qid, score, label in zip(queries, scores, eval_labels):\n",
    "    results_by_query[qid].append((score, label))\n",
    "\n",
    "# 6. nDCG@10, MRR@10 계산\n",
    "def ndcg_at_k(scores, labels, k=10):\n",
    "    idx = np.argsort(scores)[::-1][:k]\n",
    "    gains = (2 ** np.array(labels)[idx] - 1)\n",
    "    discounts = 1 / np.log2(np.arange(2, len(gains) + 2))\n",
    "    dcg = np.sum(gains * discounts)\n",
    "    ideal_idx = np.argsort(labels)[::-1][:k]\n",
    "    ideal_gains = (2 ** np.array(labels)[ideal_idx] - 1)\n",
    "    ideal_dcg = np.sum(ideal_gains * discounts)\n",
    "    return dcg / ideal_dcg if ideal_dcg > 0 else 0.0\n",
    "\n",
    "def mrr_at_k(scores, labels, k=10):\n",
    "    idx = np.argsort(scores)[::-1][:k]\n",
    "    for rank, i in enumerate(idx, start=1):\n",
    "        if labels[i] == 1:\n",
    "            return 1 / rank\n",
    "    return 0.0\n",
    "\n",
    "ndcgs, mrrs = [], []\n",
    "for qid, pairs in results_by_query.items():\n",
    "    s, l = zip(*pairs)\n",
    "    ndcgs.append(ndcg_at_k(np.array(s), np.array(l)))\n",
    "    mrrs.append(mrr_at_k(np.array(s), np.array(l)))\n",
    "\n",
    "print(f\"Mean nDCG@10: {np.mean(ndcgs):.4f}\")\n",
    "print(f\"Mean MRR@10: {np.mean(mrrs):.4f}\")"
   ]
  },
  {
   "cell_type": "code",
   "execution_count": null,
   "id": "8514a69c-32c6-4673-9f7b-fb8cb57b15c7",
   "metadata": {},
   "outputs": [],
   "source": [
    "reranker_model2 = CrossEncoder('Dongjin-kr/ko-reranker', device=device)"
   ]
  },
  {
   "cell_type": "code",
   "execution_count": null,
   "id": "f3c3d565-564d-4b9d-92dd-6c94142f9d19",
   "metadata": {},
   "outputs": [],
   "source": [
    "# 4. 점수 계산\n",
    "scores = reranker_model2.predict(eval_pairs, convert_to_numpy=True, show_progress_bar=True)\n",
    "\n",
    "# 5. 쿼리별로 결과 묶기\n",
    "results_by_query = defaultdict(list)\n",
    "for qid, score, label in zip(queries, scores, eval_labels):\n",
    "    results_by_query[qid].append((score, label))\n",
    "\n",
    "# 6. nDCG@10, MRR@10 계산\n",
    "def ndcg_at_k(scores, labels, k=10):\n",
    "    idx = np.argsort(scores)[::-1][:k]\n",
    "    gains = (2 ** np.array(labels)[idx] - 1)\n",
    "    discounts = 1 / np.log2(np.arange(2, len(gains) + 2))\n",
    "    dcg = np.sum(gains * discounts)\n",
    "    ideal_idx = np.argsort(labels)[::-1][:k]\n",
    "    ideal_gains = (2 ** np.array(labels)[ideal_idx] - 1)\n",
    "    ideal_dcg = np.sum(ideal_gains * discounts)\n",
    "    return dcg / ideal_dcg if ideal_dcg > 0 else 0.0\n",
    "\n",
    "def mrr_at_k(scores, labels, k=10):\n",
    "    idx = np.argsort(scores)[::-1][:k]\n",
    "    for rank, i in enumerate(idx, start=1):\n",
    "        if labels[i] == 1:\n",
    "            return 1 / rank\n",
    "    return 0.0\n",
    "\n",
    "ndcgs, mrrs = [], []\n",
    "for qid, pairs in results_by_query.items():\n",
    "    s, l = zip(*pairs)\n",
    "    ndcgs.append(ndcg_at_k(np.array(s), np.array(l)))\n",
    "    mrrs.append(mrr_at_k(np.array(s), np.array(l)))\n",
    "\n",
    "print(f\"Mean nDCG@10: {np.mean(ndcgs):.4f}\")\n",
    "print(f\"Mean MRR@10: {np.mean(mrrs):.4f}\")"
   ]
  },
  {
   "cell_type": "code",
   "execution_count": null,
   "id": "08dc9d13-4cb9-41ad-a502-345fc0c439d9",
   "metadata": {},
   "outputs": [],
   "source": [
    "reranker_model3 = CrossEncoder('dragonkue/bge-reranker-v2-m3-ko', device=device)"
   ]
  },
  {
   "cell_type": "code",
   "execution_count": null,
   "id": "b10aa4b3-ace3-4b3d-a057-c48471a9b4d7",
   "metadata": {},
   "outputs": [],
   "source": [
    "# 4. 점수 계산\n",
    "scores = reranker_model3.predict(eval_pairs, convert_to_numpy=True, show_progress_bar=True)\n",
    "\n",
    "# 5. 쿼리별로 결과 묶기\n",
    "results_by_query = defaultdict(list)\n",
    "for qid, score, label in zip(queries, scores, eval_labels):\n",
    "    results_by_query[qid].append((score, label))\n",
    "\n",
    "# 6. nDCG@10, MRR@10 계산\n",
    "def ndcg_at_k(scores, labels, k=10):\n",
    "    idx = np.argsort(scores)[::-1][:k]\n",
    "    gains = (2 ** np.array(labels)[idx] - 1)\n",
    "    discounts = 1 / np.log2(np.arange(2, len(gains) + 2))\n",
    "    dcg = np.sum(gains * discounts)\n",
    "    ideal_idx = np.argsort(labels)[::-1][:k]\n",
    "    ideal_gains = (2 ** np.array(labels)[ideal_idx] - 1)\n",
    "    ideal_dcg = np.sum(ideal_gains * discounts)\n",
    "    return dcg / ideal_dcg if ideal_dcg > 0 else 0.0\n",
    "\n",
    "def mrr_at_k(scores, labels, k=10):\n",
    "    idx = np.argsort(scores)[::-1][:k]\n",
    "    for rank, i in enumerate(idx, start=1):\n",
    "        if labels[i] == 1:\n",
    "            return 1 / rank\n",
    "    return 0.0\n",
    "\n",
    "ndcgs, mrrs = [], []\n",
    "for qid, pairs in results_by_query.items():\n",
    "    s, l = zip(*pairs)\n",
    "    ndcgs.append(ndcg_at_k(np.array(s), np.array(l)))\n",
    "    mrrs.append(mrr_at_k(np.array(s), np.array(l)))\n",
    "\n",
    "print(f\"Mean nDCG@10: {np.mean(ndcgs):.4f}\")\n",
    "print(f\"Mean MRR@10: {np.mean(mrrs):.4f}\")"
   ]
  },
  {
   "cell_type": "code",
   "execution_count": null,
   "id": "d5dec648-6f97-4e28-8339-fa1b3a5b620e",
   "metadata": {},
   "outputs": [],
   "source": []
  }
 ],
 "metadata": {
  "kernelspec": {
   "display_name": "Python 3 (ipykernel)",
   "language": "python",
   "name": "python3"
  },
  "language_info": {
   "codemirror_mode": {
    "name": "ipython",
    "version": 3
   },
   "file_extension": ".py",
   "mimetype": "text/x-python",
   "name": "python",
   "nbconvert_exporter": "python",
   "pygments_lexer": "ipython3",
   "version": "3.13.5"
  }
 },
 "nbformat": 4,
 "nbformat_minor": 5
}
